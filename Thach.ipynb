{
  "nbformat": 4,
  "nbformat_minor": 0,
  "metadata": {
    "colab": {
      "provenance": []
    },
    "kernelspec": {
      "name": "python3",
      "display_name": "Python 3"
    },
    "language_info": {
      "name": "python"
    }
  },
  "cells": [
    {
      "cell_type": "code",
      "execution_count": 1,
      "metadata": {
        "colab": {
          "base_uri": "https://localhost:8080/"
        },
        "id": "0o9KEeTqHiLb",
        "outputId": "6fb72a63-2c74-4238-db8e-67a4ce4d8967"
      },
      "outputs": [
        {
          "output_type": "stream",
          "name": "stdout",
          "text": [
            "Enter the value of a: 1\n",
            "Enter the value of b: 2\n",
            "Enter the value of c: 3\n",
            "Enter the value of x: 4\n",
            "S1 = 27.0\n",
            "S2 = 0\n",
            "Re-enter the value of a: 5\n",
            "Re-enter the value of b: 3\n",
            "Re-enter the value of c: 7\n",
            "Perimeter of the triangle with sides a, b, c: 7.5\n",
            "Area of the triangle with sides a, b, c: 6.49519052838329\n"
          ]
        }
      ],
      "source": [
        "import math\n",
        "\n",
        "def calculate_quadratic_expression(a, b, c, x):\n",
        "    return a * x**2 + b * x + c\n",
        "\n",
        "def calculate_solvability(a, b, c):\n",
        "    discriminant = b**2 - 4 * a * c\n",
        "    return math.sqrt(discriminant) if discriminant > 0 else 0\n",
        "\n",
        "def check_triangle_validity(a, b, c):\n",
        "    return 1 if a + b > c and b + c > a and a + c > b else 0\n",
        "\n",
        "def calculate_triangle_properties(a, b, c):\n",
        "    perimeter = (a + b + c) / 2\n",
        "    area = math.sqrt(perimeter * (perimeter - a) * (perimeter - b) * (perimeter - c))\n",
        "    return perimeter, area\n",
        "\n",
        "def main():\n",
        "    try:\n",
        "        user_input = raw_input  # For Python 2 compatibility\n",
        "    except NameError:\n",
        "        user_input = input  # For Python 3\n",
        "\n",
        "    while True:\n",
        "        try:\n",
        "            a = float(user_input(\"Enter the value of a: \"))\n",
        "            b = float(user_input(\"Enter the value of b: \"))\n",
        "            c = float(user_input(\"Enter the value of c: \"))\n",
        "            x = float(user_input(\"Enter the value of x: \"))  # Task 1\n",
        "\n",
        "            result_s1 = calculate_quadratic_expression(a, b, c, x)\n",
        "            print(f\"S1 = {result_s1}\")  # Task 2\n",
        "\n",
        "            result_s2 = calculate_solvability(a, b, c)  # Task 3\n",
        "            print(f\"S2 = {result_s2}\")\n",
        "\n",
        "            break\n",
        "\n",
        "        except ValueError:\n",
        "            print(\"Please enter valid real numbers\")\n",
        "        except Exception as e:\n",
        "            print(f\"Error: {e}\")\n",
        "\n",
        "    while True:\n",
        "        try:\n",
        "            a = float(user_input(\"Re-enter the value of a: \"))\n",
        "            b = float(user_input(\"Re-enter the value of b: \"))\n",
        "            c = float(user_input(\"Re-enter the value of c: \"))\n",
        "\n",
        "            if check_triangle_validity(a, b, c):  # Task 4\n",
        "                perimeter, area = calculate_triangle_properties(a, b, c)\n",
        "                print(f\"Perimeter of the triangle with sides a, b, c: {perimeter}\")\n",
        "                print(f\"Area of the triangle with sides a, b, c: {area}\")\n",
        "            else:\n",
        "                print(\"a, b, c do not form sides of a triangle\")  # Task 5\n",
        "\n",
        "            break\n",
        "\n",
        "        except ValueError:\n",
        "            print(\"Please enter valid real numbers\")\n",
        "        except Exception as e:\n",
        "            print(f\"Error: {e}\")\n",
        "\n",
        "if __name__ == \"__main__\":\n",
        "    main()"
      ]
    },
    {
      "cell_type": "code",
      "source": [],
      "metadata": {
        "id": "xMrOXm7yW736"
      },
      "execution_count": null,
      "outputs": []
    }
  ]
}